{
 "cells": [
  {
   "cell_type": "code",
   "execution_count": 1,
   "metadata": {},
   "outputs": [],
   "source": [
    "# suppress automatic output\n",
    "from IPython.core.interactiveshell import InteractiveShell\n",
    "InteractiveShell.ast_node_interactivity = \"none\""
   ]
  },
  {
   "cell_type": "markdown",
   "metadata": {},
   "source": [
    "# Variables\n",
    "\n",
    "<p style='font-size:1.75rem;line-height:1.5'>\n",
    "    Imagine that you have <b style=\"color:red\">data that changes over time</b> (e.g. racecar speed, direction), or that you want to write code that is <b style=\"color:red\">easy to reuse</b>.\n",
    "    </p>\n",
    "    \n",
    "<p style='font-size:1.75rem;line-height:1.5'>\n",
    "    We can use placeholders, or <b style=\"color:blue\">variables</b>. Variables allow us to save and change data throughout a program.\n",
    "    </p>\n",
    "    \n",
    "<p style='font-size:1.75rem;line-height:1.5'>\n",
    "    In this lab, we will be learning how to <b style=\"color:blue\">define and use variables</b> in Python.\n",
    "    </p>"
   ]
  },
  {
   "cell_type": "markdown",
   "metadata": {},
   "source": [
    "# Assignment\n",
    "\n",
    "<p style='font-size:1.75rem;line-height:1.5'>\n",
    "    We can use the <b style=\"color:blue\">assignment operator</b> <code>=</code> to assign values (of any data type) to variables. \n",
    "    <br>For example:\n",
    "    </p>\n",
    "<ul style='font-size:1.75rem;line-height:1.5'>\n",
    "    <li><code>name = 'Augustus'</code></li>\n",
    "    <li><code>age = 26</code></li>\n",
    "    <li><code>glasses = True</code></li>\n",
    "</ul>"
   ]
  },
  {
   "cell_type": "markdown",
   "metadata": {},
   "source": [
    "<p style='font-size:1.75rem;line-height:1.5'>\n",
    "    Assign a grade (string, integer, or float) to a variable called <code>grade</code>. Then print the variable.\n",
    "    </p>"
   ]
  },
  {
   "cell_type": "code",
   "execution_count": 2,
   "metadata": {
    "scrolled": false
   },
   "outputs": [
    {
     "name": "stdout",
     "output_type": "stream",
     "text": [
      "2\n"
     ]
    }
   ],
   "source": [
    "# Start your code here\n",
    "grade = 2\n",
    "print(grade)\n"
   ]
  },
  {
   "cell_type": "markdown",
   "metadata": {},
   "source": [
    "# Using Variables\n",
    "\n",
    "<p style='font-size:1.75rem;line-height:1.5'>\n",
    "    Once we have assigned a variable, we can <b style=\"color:blue\">use it in place of that value!</b>\n",
    "    </p>"
   ]
  },
  {
   "cell_type": "markdown",
   "metadata": {},
   "source": [
    "<p style='font-size:1.75rem;line-height:1.5'>\n",
    "    Set the variable <code>x</code> to a number. Then multiply <code>x</code> by 2 and print the result.\n",
    "    </p>"
   ]
  },
  {
   "cell_type": "code",
   "execution_count": 3,
   "metadata": {},
   "outputs": [
    {
     "name": "stdout",
     "output_type": "stream",
     "text": [
      "4\n"
     ]
    }
   ],
   "source": [
    "# Assign x to a number\n",
    "x = 2\n",
    "\n",
    "# Print x multiplied by 2\n",
    "print(x*2)\n"
   ]
  },
  {
   "cell_type": "markdown",
   "metadata": {},
   "source": [
    "<p style='font-size:1.75rem;line-height:1.5'>\n",
    "    Set the variable <code>name</code> to your name (a string). Then print <code>'Hello ' + name + '!'</code>\n",
    "    </p>"
   ]
  },
  {
   "cell_type": "code",
   "execution_count": 4,
   "metadata": {
    "scrolled": true
   },
   "outputs": [
    {
     "name": "stdout",
     "output_type": "stream",
     "text": [
      "Hello RMS!\n"
     ]
    }
   ],
   "source": [
    "# Assign name to a string\n",
    "name = \"RMS\"\n",
    "\n",
    "# Print out 'Hello ' + name + '!'\n",
    "print(\"Hello \" + name + '!')\n"
   ]
  },
  {
   "cell_type": "markdown",
   "metadata": {},
   "source": [
    "# Naming Variables\n",
    "<p style='font-size:1.75rem;line-height:1.5'>\n",
    "    A variable name can only contain letters (a–z, A–Z), digits (0–9), and the underscore <code>_</code>. Note that variable names <b style=\"color:red\">cannot begin with numbers</b> and <b style=\"color:red\">cannot contain spaces</b>. For example:\n",
    "    </p>\n",
    "    \n",
    "<ul style='font-size:1.75rem;line-height:1.5'>\n",
    "    <li>Valid variable names: <code>GPA</code>, <code>student_1</code>, <code>_bEaVeR_w0rKs_</code>\n",
    "    <li>Invalid variable names: <code>1_student</code>, <code>Beaver Works</code>, <code>€„‹´‰</code>\n",
    "</ul>"
   ]
  },
  {
   "cell_type": "markdown",
   "metadata": {},
   "source": [
    "<p style='font-size:1.75rem;line-height:1.5'>\n",
    "    Assign a number to a variable name with letters, digits, and an underscore <code>_</code>.\n",
    "    </p>"
   ]
  },
  {
   "cell_type": "code",
   "execution_count": 7,
   "metadata": {},
   "outputs": [],
   "source": [
    "# Start your code here\n",
    "number_1 = 1\n"
   ]
  },
  {
   "cell_type": "markdown",
   "metadata": {},
   "source": [
    "<p style='font-size:1.75rem;line-height:1.5'>\n",
    "    Assign a string to a variable name with only upper case letters.\n",
    "    </p>"
   ]
  },
  {
   "cell_type": "code",
   "execution_count": 8,
   "metadata": {},
   "outputs": [],
   "source": [
    "# Start your code here\n",
    "NUMBER = 2\n"
   ]
  },
  {
   "cell_type": "markdown",
   "metadata": {},
   "source": [
    "<p style='font-size:1.75rem;line-height:1.5'>\n",
    "    Now print the two variables you made!\n",
    "    </p>"
   ]
  },
  {
   "cell_type": "code",
   "execution_count": 9,
   "metadata": {},
   "outputs": [
    {
     "name": "stdout",
     "output_type": "stream",
     "text": [
      "1\n",
      "2\n"
     ]
    }
   ],
   "source": [
    "# Start your code here\n",
    "print(number_1)\n",
    "print(NUMBER)\n"
   ]
  },
  {
   "cell_type": "markdown",
   "metadata": {},
   "source": [
    "# Other Restrictions\n",
    "\n",
    "<p style='font-size:1.75rem;line-height:1.5'>\n",
    "    <b style=\"color:red\">Variables also cannot be Python keywords.</b> For example, don't name your variables:\n",
    "    </p>\n",
    "\n",
    "```python\n",
    "True, False, None, is, not, and, or, for, if, elif, else, def\n",
    "```\n",
    "\n",
    "<p style='font-size:1.75rem;line-height:1.5'>\n",
    "    There are many others. These words should turn <b style=\"color:green\">green</b> when you type them, which should help you know not to use them.\n",
    "    </p>\n",
    "<p style='font-size:1.75rem;line-height:1.5'>\n",
    "    You should also not use names already used in Python, such as <code>str</code> or <code>int</code>, although they are technically allowed.\n",
    "    </p>"
   ]
  },
  {
   "cell_type": "markdown",
   "metadata": {},
   "source": [
    "<p style='font-size:1.75rem;line-height:1.5'>\n",
    "    Which of the following are valid variable names? First think with your partner and then run each code block to see if you get an error.\n",
    "    </p>"
   ]
  },
  {
   "cell_type": "code",
   "execution_count": 10,
   "metadata": {},
   "outputs": [],
   "source": [
    "_test1 = 10"
   ]
  },
  {
   "cell_type": "code",
   "execution_count": 2,
   "metadata": {},
   "outputs": [
    {
     "ename": "SyntaxError",
     "evalue": "invalid syntax (<ipython-input-2-6e6cc497c83c>, line 1)",
     "output_type": "error",
     "traceback": [
      "\u001b[1;36m  File \u001b[1;32m\"<ipython-input-2-6e6cc497c83c>\"\u001b[1;36m, line \u001b[1;32m1\u001b[0m\n\u001b[1;33m    2test = \"is this valid?\"\u001b[0m\n\u001b[1;37m     ^\u001b[0m\n\u001b[1;31mSyntaxError\u001b[0m\u001b[1;31m:\u001b[0m invalid syntax\n"
     ]
    }
   ],
   "source": [
    "2test = \"is this valid?\""
   ]
  },
  {
   "cell_type": "code",
   "execution_count": 3,
   "metadata": {
    "scrolled": true
   },
   "outputs": [
    {
     "ename": "SyntaxError",
     "evalue": "invalid syntax (<ipython-input-3-5601fd14c79b>, line 1)",
     "output_type": "error",
     "traceback": [
      "\u001b[1;36m  File \u001b[1;32m\"<ipython-input-3-5601fd14c79b>\"\u001b[1;36m, line \u001b[1;32m1\u001b[0m\n\u001b[1;33m    is = 4\u001b[0m\n\u001b[1;37m    ^\u001b[0m\n\u001b[1;31mSyntaxError\u001b[0m\u001b[1;31m:\u001b[0m invalid syntax\n"
     ]
    }
   ],
   "source": [
    "is = 4"
   ]
  },
  {
   "cell_type": "code",
   "execution_count": 13,
   "metadata": {
    "scrolled": true
   },
   "outputs": [],
   "source": [
    "# Don't do this!\n",
    "float = int\n",
    "float(3.99)"
   ]
  },
  {
   "cell_type": "markdown",
   "metadata": {},
   "source": [
    "# Naming Conventions\n",
    "\n",
    "<p style='font-size:1.75rem;line-height:1.5'>\n",
    "    There are <b style=\"color:blue\">two main naming conventions</b> for variable names with multiple words:\n",
    "    </p>\n",
    "<ul style='font-size:1.75rem;line-height:1.5'>\n",
    "    <li><code>camelCase</code>: First word is lower case and following words are capitalized.</li>\n",
    "    <li><code>snake_case</code>: All words are lower case and separated by underscores.</li>\n",
    "</ul>\n",
    "<p style='font-size:1.75rem;line-height:1.5'>\n",
    "    In Python, we typically use <code>snake_case</code>.\n",
    "    </p>"
   ]
  },
  {
   "cell_type": "markdown",
   "metadata": {},
   "source": [
    "<p style='font-size:1.75rem;line-height:1.5'> \n",
    "Create a variable name with the words <code>cat</code> and <code>name</code>, combining the two words in snake_case style. Then,  assign and print a string of your preferred cat name to this variable!\n",
    "    </p>"
   ]
  },
  {
   "cell_type": "code",
   "execution_count": 16,
   "metadata": {},
   "outputs": [
    {
     "name": "stdout",
     "output_type": "stream",
     "text": [
      "Kitty\n"
     ]
    }
   ],
   "source": [
    "# Start your code here\n",
    "cat_name = \"Kitty\"\n",
    "print(cat_name)"
   ]
  },
  {
   "cell_type": "markdown",
   "metadata": {},
   "source": [
    "# <b style=\"color:red\">--- STOP HERE --- </b>\n",
    "\n",
    "---"
   ]
  },
  {
   "cell_type": "markdown",
   "metadata": {},
   "source": [
    "# Reassignment\n",
    "\n",
    "<p style='font-size:1.75rem;line-height:1.5'>\n",
    "    Variables that already exist can be <b style=\"color:blue\">reassigned to different values.</b>\n",
    "    </p>"
   ]
  },
  {
   "cell_type": "markdown",
   "metadata": {},
   "source": [
    "<p style='font-size:1.75rem;line-height:1.5'>\n",
    "    Go through the example below to see this in action.\n",
    "    </p>"
   ]
  },
  {
   "cell_type": "code",
   "execution_count": 17,
   "metadata": {},
   "outputs": [
    {
     "name": "stdout",
     "output_type": "stream",
     "text": [
      "2\n",
      "3\n"
     ]
    }
   ],
   "source": [
    "# Assign a value to a variable \n",
    "x = 2\n",
    "\n",
    "# Print the variable\n",
    "print(x)\n",
    "\n",
    "# Reassign a different value to the variable\n",
    "x = 3\n",
    "\n",
    "# Has the variable value changed? (Check by printing)\n",
    "print(x)\n"
   ]
  },
  {
   "cell_type": "markdown",
   "metadata": {},
   "source": [
    "<p style='font-size:1.75rem;line-height:1.5'>\n",
    "    When we reassign, the <b style=\"color:blue\">right side is evaluated first</b> before the reassignment takes place. This means that we can reassign a variable in terms of itself. For example, we can add one to a variable like this:\n",
    "    </p>\n",
    "\n",
    "```python\n",
    "x = 10\n",
    "x = x + 1\n",
    "```"
   ]
  },
  {
   "cell_type": "markdown",
   "metadata": {},
   "source": [
    "<p style='font-size:1.75rem;line-height:1.5'>\n",
    "    Now <code>x</code> is equal to <code>11</code>. Try doubling a variable in the example below.\n",
    "    </p>"
   ]
  },
  {
   "cell_type": "code",
   "execution_count": 18,
   "metadata": {},
   "outputs": [
    {
     "name": "stdout",
     "output_type": "stream",
     "text": [
      "4\n"
     ]
    }
   ],
   "source": [
    "# Create a new variable. Assign it an integer.\n",
    "x = 2\n",
    "\n",
    "# Set the variable equal to two times itself\n",
    "x = x*2\n",
    "\n",
    "# Now print the variable\n",
    "print(x)\n"
   ]
  },
  {
   "cell_type": "markdown",
   "metadata": {},
   "source": [
    "<p style='font-size:1.75rem;line-height:1.5'>\n",
    "    <b style=\"color:blue\">Swapping variables</b> means that we have two variables (e.g. <code>A</code> and <code>B</code>), and we want to change the new value of <code>A</code> to be equal to the old value of <code>B</code>, and new value of <code>B</code> to be equal to the old value of <code>A</code>.\n",
    "    </p>"
   ]
  },
  {
   "cell_type": "markdown",
   "metadata": {},
   "source": [
    "<p style='font-size:1.75rem;line-height:1.5'>\n",
    "    Try to swap the two variables below by using a third variable.\n",
    "    </p>"
   ]
  },
  {
   "cell_type": "code",
   "execution_count": 20,
   "metadata": {},
   "outputs": [
    {
     "name": "stdout",
     "output_type": "stream",
     "text": [
      "3\n",
      "2\n"
     ]
    }
   ],
   "source": [
    "# Swap the variables by using a third variable \n",
    "a = 2\n",
    "b = 3\n",
    "tmp = None\n",
    "\n",
    "tmp = a\n",
    "a = b\n",
    "b = tmp\n",
    "\n",
    "# Print A and B to check if the values have swapped\n",
    "print(a)\n",
    "print(b)\n"
   ]
  },
  {
   "cell_type": "markdown",
   "metadata": {},
   "source": [
    "# Greeter\n",
    "<p style='font-size:1.75rem;line-height:1.5'>\n",
    "    The function <code>input()</code> takes <b style=\"color:blue\">input from the user</b> and <b style=\"color:blue\">returns the input as a string</b>. Don't worry too much about how this works, just know that the response is saved as a string in the variable <code>name</code>.\n",
    "    </p>"
   ]
  },
  {
   "cell_type": "markdown",
   "metadata": {},
   "source": [
    "<p style='font-size:1.75rem;line-height:1.5'>\n",
    "    Using string concatenation and the variable <code>name</code>, greet the person. For example, if the name is Alex, you might print:\n",
    "    </p>\n",
    "\n",
    "```\n",
    "Hello Alex!\n",
    "```"
   ]
  },
  {
   "cell_type": "code",
   "execution_count": 4,
   "metadata": {},
   "outputs": [
    {
     "name": "stdout",
     "output_type": "stream",
     "text": [
      "Hello! What is your name: RMS\n",
      "Hello RMS!\n"
     ]
    }
   ],
   "source": [
    "name = input('Hello! What is your name: ')\n",
    "\n",
    "# Greet the person\n",
    "print(\"Hello \" + name + '!')\n"
   ]
  },
  {
   "cell_type": "markdown",
   "metadata": {},
   "source": [
    "# Total Age\n",
    "\n",
    "<p style='font-size:1.75rem;line-height:1.5'>\n",
    "    Choose four friends or family members, and print out their total age by adding the ages together. This problem can be done without using variables, but variables help us keep track of the ages, and save them for later.\n",
    "    </p>"
   ]
  },
  {
   "cell_type": "code",
   "execution_count": 22,
   "metadata": {},
   "outputs": [
    {
     "name": "stdout",
     "output_type": "stream",
     "text": [
      "21\n"
     ]
    }
   ],
   "source": [
    "# Assign variables for the ages of four family members or friends\n",
    "person1 = 2\n",
    "person2 = 4\n",
    "person3 = 5\n",
    "person4 = 10\n",
    "\n",
    "# Print out the total age of the four\n",
    "print(person1 + person2 + person3 + person4)\n"
   ]
  },
  {
   "cell_type": "markdown",
   "metadata": {},
   "source": [
    "<p style='font-size:1.75rem;line-height:1.5'>\n",
    "    Now suppose that 7 years have passed. Add <code>years</code> to each variable and print the new total age.\n",
    "    </p>"
   ]
  },
  {
   "cell_type": "code",
   "execution_count": 23,
   "metadata": {},
   "outputs": [
    {
     "name": "stdout",
     "output_type": "stream",
     "text": [
      "49\n"
     ]
    }
   ],
   "source": [
    "years = 7\n",
    "\n",
    "# Add years to each variable\n",
    "person1 = person1 + years\n",
    "person2 = person1 + years\n",
    "person3 = person1 + years\n",
    "person4 = person1 + years\n",
    "\n",
    "\n",
    "# Print out the total age of the four\n",
    "print(person1 + person2 + person3 + person4)\n"
   ]
  },
  {
   "cell_type": "markdown",
   "metadata": {},
   "source": [
    "## Sum of numbers\n",
    "<p style='font-size:1.75rem;line-height:1.5'>\n",
    "    Create a program that accepts 5 numbers from user input, and returns the sum of those numbers.\n",
    "    </p>\n",
    "    \n",
    "<p style='font-size:1.75rem;line-height:1.5'>\n",
    "    <strong>Hint:</strong> Cast the results of the user input into integers. \n",
    "    </p>"
   ]
  },
  {
   "cell_type": "code",
   "execution_count": 5,
   "metadata": {},
   "outputs": [
    {
     "name": "stdout",
     "output_type": "stream",
     "text": [
      "Enter the 1st number: 1\n",
      "Enter the 2nd number: 2\n",
      "Enter the 3rd number: 3\n",
      "Enter the 4th number: 4\n",
      "Enter the 5th number: 5\n",
      "Your total is: 15\n"
     ]
    }
   ],
   "source": [
    "# Start your code here. \n",
    "# Hint: Ask for user input 5 times, then assign the result to different variables.\n",
    "num1 = int(input('Enter the 1st number: '))\n",
    "num2 = int(input('Enter the 2nd number: '))\n",
    "num3 = int(input('Enter the 3rd number: '))\n",
    "num4 = int(input('Enter the 4th number: '))\n",
    "num5 = int(input('Enter the 5th number: '))\n",
    "\n",
    "print(\"Your total is: \" + str(num1 + num2 + num3 + num4 + num5))"
   ]
  },
  {
   "cell_type": "markdown",
   "metadata": {},
   "source": [
    "## Paragraph generator\n",
    "<p style='font-size:1.75rem;line-height:1.5'>\n",
    "    Create a program that takes in 4 sentences and puts them into a paragraph format.\n",
    "    </p>\n",
    "\n",
    "<p style='font-size:1.75rem;line-height:1.5'>\n",
    "    Your paragraph should have an indent on the first line.\n",
    "    </p>"
   ]
  },
  {
   "cell_type": "code",
   "execution_count": 28,
   "metadata": {},
   "outputs": [
    {
     "name": "stdout",
     "output_type": "stream",
     "text": [
      "Enter the 1st sentence: Hello!\n",
      "Enter the 2nd sentence: Welcome to RMS.\n",
      "Enter the 3rd sentence: We hope you are enjoying the course.\n",
      "Enter the 4th sentence: Python is fun!\n",
      "\tHello! Welcome to RMS. We hope you are enjoying the course. Python is fun!\n"
     ]
    }
   ],
   "source": [
    "# Start your code here. \n",
    "sentence1 = input('Enter the 1st sentence: ')\n",
    "sentence2 = input('Enter the 2nd sentence: ')\n",
    "sentence3 = input('Enter the 3rd sentence: ')\n",
    "sentence4 = input('Enter the 4th sentence: ')\n",
    "print('\\t' + sentence1 + \" \" + sentence2 + \" \" + sentence3 + \" \" + sentence4)"
   ]
  },
  {
   "cell_type": "markdown",
   "metadata": {},
   "source": [
    "## Alexa\n",
    "<p style='font-size:1.75rem;line-height:1.5'>\n",
    "    Create an Alexa-type program that accepts player input and responds.\n",
    "    </p>\n",
    "\n",
    "<p style='font-size:1.75rem;line-height:1.5'>\n",
    "    For example:\n",
    "    </p>\n",
    "<p style='font-size:1.75rem;line-height:1.5'>\n",
    "    Alexa: Hi, what is your name?\n",
    "    </p>\n",
    "\n",
    "<p style='font-size:1.75rem;line-height:1.5'>\n",
    "    User: Dan Bi\n",
    "    </p>\n",
    "<p style='font-size:1.75rem;line-height:1.5'>\n",
    "    Alexa: Hi Dan Bi! What sport do you play?\n",
    "    </p>\n",
    "    \n",
    "<p style='font-size:1.75rem;line-height:1.5'>\n",
    "    User: Crew\n",
    "    </p>\n",
    "\n",
    "<p style='font-size:1.75rem;line-height:1.5'>\n",
    "    Alexa: Crew is a good sport! What is your favorite food?\n",
    "    </p>\n",
    "    \n",
    "<p style='font-size:1.75rem;line-height:1.5'>\n",
    "    User: Pizza\n",
    "    </p>\n",
    "    \n",
    "<p style='font-size:1.75rem;line-height:1.5'>\n",
    "    Alexa: Pizza is so delicious!\n",
    "    </p>\n",
    "    \n",
    "<p style='font-size:1.75rem;line-height:1.5'>\n",
    "    <strong>Hint:</strong> Store the user input as a variable. Then print it out with another string as Alexa's response.\n",
    "    </p>"
   ]
  },
  {
   "cell_type": "code",
   "execution_count": 29,
   "metadata": {},
   "outputs": [
    {
     "name": "stdout",
     "output_type": "stream",
     "text": [
      "Hi, what is your name? Dan Bi\n",
      "Hi Dan Bi! What sport do you play? Crew\n",
      "Crew is a good sport! What is your favorite food? Pizza\n",
      "Pizza is so delicious!\n"
     ]
    }
   ],
   "source": [
    "# Start your code here.\n",
    "name = input('Hi, what is your name? ')\n",
    "sport = input('Hi ' + name + '! What sport do you play? ')\n",
    "food = input(sport + ' is a good sport! What is your favorite food? ')\n",
    "print(food + ' is so delicious!')"
   ]
  }
 ],
 "metadata": {
  "kernelspec": {
   "display_name": "Python 3",
   "language": "python",
   "name": "python3"
  },
  "language_info": {
   "codemirror_mode": {
    "name": "ipython",
    "version": 3
   },
   "file_extension": ".py",
   "mimetype": "text/x-python",
   "name": "python",
   "nbconvert_exporter": "python",
   "pygments_lexer": "ipython3",
   "version": "3.8.1"
  }
 },
 "nbformat": 4,
 "nbformat_minor": 4
}
