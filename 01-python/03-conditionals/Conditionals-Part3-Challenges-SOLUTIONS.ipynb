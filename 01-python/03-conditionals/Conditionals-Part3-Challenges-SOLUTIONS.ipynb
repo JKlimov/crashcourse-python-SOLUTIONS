{
 "cells": [
  {
   "cell_type": "code",
   "execution_count": 1,
   "metadata": {},
   "outputs": [],
   "source": [
    "# suppress automatic output\n",
    "from IPython.core.interactiveshell import InteractiveShell\n",
    "InteractiveShell.ast_node_interactivity = \"none\""
   ]
  },
  {
   "cell_type": "markdown",
   "metadata": {},
   "source": [
    "# Conditional Statements\n",
    "<p style='font-size:1.75rem;line-height:1.5'>\n",
    "    We can use <code>if</code>, <code>else</code>, and <code>elif</code> in order to tell the program <b style=\"color:blue\">whether to run a particular indented block</b> of code based on a boolean.\n",
    "    </p>\n",
    "<ul style='font-size:1.75rem;line-height:1.5'>\n",
    "    <li><code>if</code>: Run code if boolean is <code>True</code>.</li>\n",
    "    <li><code>elif</code>: Run code if previous conditions are <code>False</code> and boolean is <code>True</code>.</li>\n",
    "    <li><code>else</code>: Run code if previous conditions are <code>False</code>.</li>\n",
    "</ul>"
   ]
  },
  {
   "cell_type": "markdown",
   "metadata": {},
   "source": [
    "<p style='font-size:1.75rem;line-height:1.5'>\n",
    "    Let's start with an example of a simple if statement. What do you expect to be printed for different values of <code>n</code>? Why? Try choosing different numbers and see what happens.\n",
    "    </p>"
   ]
  },
  {
   "cell_type": "code",
   "execution_count": 2,
   "metadata": {},
   "outputs": [
    {
     "name": "stdout",
     "output_type": "stream",
     "text": [
      "Input n: 3\n"
     ]
    }
   ],
   "source": [
    "# Choose n\n",
    "n = int(input(\"Input n: \"))\n",
    "\n",
    "if n > 10:\n",
    "    print('n is greater than 10')"
   ]
  },
  {
   "cell_type": "markdown",
   "metadata": {},
   "source": [
    "<p style='font-size:1.75rem;line-height:1.5'>\n",
    "    If <code>n</code> is less than or equal to 10, nothing is printed since the condition is false (remember, <code>&gt;</code> means <em>strictly</em> greater than).\n",
    "    </p>\n",
    "<p style='font-size:1.75rem;line-height:1.5'> \n",
    "    We can improve our code by adding an <code>elif</code> statement.\n",
    "    </p>"
   ]
  },
  {
   "cell_type": "markdown",
   "metadata": {},
   "source": [
    "<p style='font-size:1.75rem;line-height:1.5'>\n",
    "    Try running the code again for several numbers and think about what is happening.\n",
    "    <br>Remember, an <code>elif</code> statement only runs the code block if all previous conditions were <code>False</code>.\n",
    "    </p>"
   ]
  },
  {
   "cell_type": "code",
   "execution_count": 3,
   "metadata": {},
   "outputs": [
    {
     "name": "stdout",
     "output_type": "stream",
     "text": [
      "Input n: 3\n",
      "n is less than 10\n"
     ]
    }
   ],
   "source": [
    "# Choose n\n",
    "n = int(input(\"Input n: \"))\n",
    "\n",
    "if n > 10:\n",
    "    print('n is greater than 10')\n",
    "elif n < 10:\n",
    "    print('n is less than 10')"
   ]
  },
  {
   "cell_type": "markdown",
   "metadata": {},
   "source": [
    "<p style='font-size:1.75rem;line-height:1.5'>\n",
    "    Our code is better, but we still get no feedback if <code>n</code> is exactly 10. An <code>else</code> statement will run if all previous conditions were <code>False</code>.\n",
    "    </p>"
   ]
  },
  {
   "cell_type": "markdown",
   "metadata": {},
   "source": [
    "<p style='font-size:1.75rem;line-height:1.5'>\n",
    "    Try running the following code for different values of <code>n</code>, and make sure to try 10.\n",
    "    </p>"
   ]
  },
  {
   "cell_type": "code",
   "execution_count": 5,
   "metadata": {},
   "outputs": [
    {
     "name": "stdout",
     "output_type": "stream",
     "text": [
      "Input n: 10\n",
      "n is 10\n"
     ]
    }
   ],
   "source": [
    "# Choose n\n",
    "n = int(input(\"Input n: \"))\n",
    "\n",
    "if n > 10:\n",
    "    print('n is greater than 10')\n",
    "elif n < 10:\n",
    "    print('n is less than 10')\n",
    "else:\n",
    "    print('n is 10')"
   ]
  },
  {
   "cell_type": "markdown",
   "metadata": {},
   "source": [
    "<p style='font-size:1.75rem;line-height:1.5'>\n",
    "    We can also nest if statements. Examine the following code and think about what will happen for different values of <code>n</code>. (Remember, an if statement is just a block of code that can be within another if statement!)\n",
    "    </p>"
   ]
  },
  {
   "cell_type": "code",
   "execution_count": 6,
   "metadata": {},
   "outputs": [
    {
     "name": "stdout",
     "output_type": "stream",
     "text": [
      "Input n: -3\n",
      "n is not positive!\n"
     ]
    }
   ],
   "source": [
    "# Choose n\n",
    "n = int(input(\"Input n: \"))\n",
    "\n",
    "if n > 0:\n",
    "    if n > 10:\n",
    "        print('n is greater than 10')\n",
    "    elif n < 10:\n",
    "        print('n is less than 10')\n",
    "    else:\n",
    "        print('n is 10')\n",
    "else:\n",
    "    print('n is not positive!')"
   ]
  },
  {
   "cell_type": "markdown",
   "metadata": {},
   "source": [
    "# The Candy Party\n",
    "<p style='font-size:1.75rem;line-height:1.5'>\n",
    "    When beavers get together for a party, they like to have candy. A beaver party is successful when the number of candies is between 40 and 60, inclusive. Unless it is the weekend, in which case there is no upper bound on the number of candies.\n",
    "    </p>\n",
    "<p style='font-size:1.75rem;line-height:1.5'>\n",
    "    Print <code>True</code> if the party with the given values is successful, or <code>False</code> otherwise.\n",
    "    </p>\n",
    "<p style='font-size:1.75rem;line-height:1.5'>\n",
    "    Try your code for different values of <code>candies</code> and <code>is_weekend</code> to test it.\n",
    "    </p>"
   ]
  },
  {
   "cell_type": "code",
   "execution_count": 7,
   "metadata": {},
   "outputs": [
    {
     "name": "stdout",
     "output_type": "stream",
     "text": [
      "False\n"
     ]
    }
   ],
   "source": [
    "# Change these to test your code!\n",
    "candies = 63\n",
    "is_weekend = False\n",
    "\n",
    "# Start your code here\n",
    "if is_weekend:\n",
    "    if candies >= 40:\n",
    "        print(True)\n",
    "    else:\n",
    "        print(False)\n",
    "else:\n",
    "    if candies >= 40 and candies <= 60:\n",
    "        print(True)\n",
    "    else:\n",
    "        print(False)"
   ]
  },
  {
   "cell_type": "markdown",
   "metadata": {},
   "source": [
    "# Tennis Game\n",
    "\n",
    "<p style='font-size:1.75rem;line-height:1.5'>\n",
    "    You are playing doubles in a tennis game. The variable <code>you</code> is your tennis skill level, from 0 to 10. <code>tm</code> is your teammate's tennis skill level, from 0 to 10. Your chances of winning are <code>0</code> = no, <code>1</code> = maybe, and <code>2</code> = yes. Your chances are based on the following conditions:\n",
    "    </p>\n",
    "<ul style='font-size:1.75rem;line-height:1.5'>\n",
    "    <li>If your skill level is 3 or more above your teammate's, then your chances are <code>2</code>.</li>\n",
    "    <li>If your skill level is within 2 of your teammate's, the your chances are <code>1</code>.</li>\n",
    "    <li>If your skill level is 3 or less below your teammate's, then your chances are <code>0</code>.</li>\n",
    "</ul>\n",
    "<p style='font-size:1.75rem;line-height:1.5'>\n",
    "    Based on you and your teammate's skill levels, print your chances of winning.\n",
    "    </p>\n",
    "    \n",
    "<p style='font-size:1.75rem;line-height:1.5'>\n",
    "    Check your answer by running the code several times and manually checking the result.\n",
    "    </p>"
   ]
  },
  {
   "cell_type": "code",
   "execution_count": 8,
   "metadata": {},
   "outputs": [
    {
     "name": "stdout",
     "output_type": "stream",
     "text": [
      "You: 4\n",
      "Teammate: 0\n",
      "2\n"
     ]
    }
   ],
   "source": [
    "# This code generates and prints the skill levels.\n",
    "# (Don't worry about understanding it.)\n",
    "from random import randint     # import the randint function\n",
    "you = randint(0, 10)           # pick a random integer between 0 and 10\n",
    "tm = randint(0, 10)            # pick a random integer between 0 and 10\n",
    "print(\"You: \" + str(you))      # print your skill level\n",
    "print(\"Teammate: \" + str(tm))  # print teammate's skill level\n",
    "\n",
    "# Start your code here\n",
    "if you >= tm+3:\n",
    "    print(2)\n",
    "elif you >= tm-2 and you <= tm+2:\n",
    "    print(1)\n",
    "elif you <= tm-3:\n",
    "    print(0)"
   ]
  },
  {
   "cell_type": "markdown",
   "metadata": {},
   "source": [
    "# Lone Sum\n",
    "<p style='font-size:1.75rem;line-height:1.5'>\n",
    "    Given three random integers <code>a</code>, <code>b</code>, and <code>c</code>, print their sum. However, if two numbers have the same value, neither value counts towards the sum. For example:\n",
    "    </p>\n",
    "<p style='font-size:1.75rem;line-height:1.5'>\n",
    "Check your answer by running the code several times and manually checking the result.\n",
    "    </p>"
   ]
  },
  {
   "cell_type": "code",
   "execution_count": 10,
   "metadata": {
    "scrolled": true
   },
   "outputs": [
    {
     "name": "stdout",
     "output_type": "stream",
     "text": [
      "a: 4\n",
      "b: 1\n",
      "c: 5\n",
      "10\n"
     ]
    }
   ],
   "source": [
    "# This code generates and prints the random numbers.\n",
    "# (Don't worry about understanding it for now.)\n",
    "from random import randint  # import the randint function\n",
    "a = randint(0, 5)           # pick a random integer between 0 and 5\n",
    "b = randint(0, 5)           # pick a random integer between 0 and 5\n",
    "c = randint(0, 5)           # pick a random integer between 0 and 5\n",
    "print('a: ' + str(a))       # print a\n",
    "print('b: ' + str(b))       # print b\n",
    "print('c: ' + str(c))       # print c\n",
    "\n",
    "# Start your code here\n",
    "if a==b and b==c:\n",
    "    print(0)\n",
    "elif a==b:\n",
    "    print(c)\n",
    "elif b==c:\n",
    "    print(a)\n",
    "elif a==c:\n",
    "    print(b)\n",
    "else:\n",
    "    print(a+b+c)"
   ]
  }
 ],
 "metadata": {
  "kernelspec": {
   "display_name": "Python 3",
   "language": "python",
   "name": "python3"
  },
  "language_info": {
   "codemirror_mode": {
    "name": "ipython",
    "version": 3
   },
   "file_extension": ".py",
   "mimetype": "text/x-python",
   "name": "python",
   "nbconvert_exporter": "python",
   "pygments_lexer": "ipython3",
   "version": "3.8.1"
  }
 },
 "nbformat": 4,
 "nbformat_minor": 4
}
