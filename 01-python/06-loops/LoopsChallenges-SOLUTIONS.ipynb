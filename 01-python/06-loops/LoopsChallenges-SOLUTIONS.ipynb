{
 "cells": [
  {
   "cell_type": "code",
   "execution_count": null,
   "metadata": {},
   "outputs": [],
   "source": [
    "# suppress automatic output\n",
    "from IPython.core.interactiveshell import InteractiveShell\n",
    "InteractiveShell.ast_node_interactivity = \"none\""
   ]
  },
  {
   "cell_type": "markdown",
   "metadata": {},
   "source": [
    "## Prime Numbers\n",
    "\n",
    "<p style='font-size:1.75rem;line-height:1.5'>\n",
    "    A <strong>prime number</strong> is a number that has no factors that divide evenly into it other than 1 and itself. For example, 17 is prime, but 42 is not prime (it is 6 times 7).\n",
    "    </p>\n",
    "    \n",
    "<p style='font-size:1.75rem;line-height:1.5'>\n",
    "    Using a for loop, write a function that checks if the given number is prime. The function should return <code>True</code> if the number is prime, and <code>False</code> otherwise.\n",
    "    </p>\n",
    "    \n",
    "<p style='font-size:1.75rem;line-height:1.5'>\n",
    "    <strong>Hint:</strong> Remember, the modulo operator <code>%</code> returns <code>0</code> when the number divides evenly with no remainder. Also, remember not to check 1 and the number itself, since these do not count for prime numbers.\n",
    "    </p>"
   ]
  },
  {
   "cell_type": "code",
   "execution_count": 1,
   "metadata": {},
   "outputs": [],
   "source": [
    "def prime(n):\n",
    "    # Use a for loop (and range!)\n",
    "    # Remember, don't count 1 or n when you check for factors\n",
    "    for i in range(2,n):\n",
    "        if n%i==0:\n",
    "            return False\n",
    "    return True"
   ]
  },
  {
   "cell_type": "markdown",
   "metadata": {},
   "source": [
    "<p style='font-size:1.75rem;line-height:1.5'>\n",
    "    Check your answer on <code>104729</code>, the 10000th prime number. (Your function should return <code>True</code> for this number.)\n",
    "    </p>"
   ]
  },
  {
   "cell_type": "code",
   "execution_count": 2,
   "metadata": {},
   "outputs": [
    {
     "data": {
      "text/plain": [
       "True"
      ]
     },
     "execution_count": 2,
     "metadata": {},
     "output_type": "execute_result"
    }
   ],
   "source": [
    "# Call prime on 104729\n",
    "prime(104729)"
   ]
  },
  {
   "cell_type": "markdown",
   "metadata": {},
   "source": [
    "## Roger Rabbit\n",
    "\n",
    "<p style='font-size:1.75rem;line-height:1.5'>\n",
    "    Roger Rabbit needs you to fizzbuzz: \n",
    "    <ul style='font-size:1.75rem;line-height:2'>\n",
    "        <li>Print <code>fizz</code> if a number is divisible by <code>3</code></li>\n",
    "        <li>Print <code>buzz</code> if a number is divisible by <code>5</code></li>\n",
    "        <li>Print <code>fizzbuzz</code> if a number is divisble by <code>15</code></li>\n",
    "        <li>If a number is not divisible by any of those, print out the number.</li>\n",
    "    </ul>\n",
    "    </p>\n",
    "    \n",
    "<p style='font-size:1.75rem;line-height:1.5'>    \n",
    "    Fizzbuzz for all the numbers between <code>1</code> and <code>100</code> (including 1 and 100).\n",
    "    </p>"
   ]
  },
  {
   "cell_type": "code",
   "execution_count": 3,
   "metadata": {},
   "outputs": [
    {
     "name": "stdout",
     "output_type": "stream",
     "text": [
      "1\n",
      "2\n",
      "fizz \n",
      "4\n",
      "buzz \n",
      "fizz \n",
      "7\n",
      "8\n",
      "fizz \n",
      "buzz \n",
      "11\n",
      "fizz \n",
      "13\n",
      "14\n",
      "fizz buzz fizzbuzz\n",
      "16\n",
      "17\n",
      "fizz \n",
      "19\n",
      "buzz \n",
      "fizz \n",
      "22\n",
      "23\n",
      "fizz \n",
      "buzz \n",
      "26\n",
      "fizz \n",
      "28\n",
      "29\n",
      "fizz buzz fizzbuzz\n",
      "31\n",
      "32\n",
      "fizz \n",
      "34\n",
      "buzz \n",
      "fizz \n",
      "37\n",
      "38\n",
      "fizz \n",
      "buzz \n",
      "41\n",
      "fizz \n",
      "43\n",
      "44\n",
      "fizz buzz fizzbuzz\n",
      "46\n",
      "47\n",
      "fizz \n",
      "49\n",
      "buzz \n",
      "fizz \n",
      "52\n",
      "53\n",
      "fizz \n",
      "buzz \n",
      "56\n",
      "fizz \n",
      "58\n",
      "59\n",
      "fizz buzz fizzbuzz\n",
      "61\n",
      "62\n",
      "fizz \n",
      "64\n",
      "buzz \n",
      "fizz \n",
      "67\n",
      "68\n",
      "fizz \n",
      "buzz \n",
      "71\n",
      "fizz \n",
      "73\n",
      "74\n",
      "fizz buzz fizzbuzz\n",
      "76\n",
      "77\n",
      "fizz \n",
      "79\n",
      "buzz \n",
      "fizz \n",
      "82\n",
      "83\n",
      "fizz \n",
      "buzz \n",
      "86\n",
      "fizz \n",
      "88\n",
      "89\n",
      "fizz buzz fizzbuzz\n",
      "91\n",
      "92\n",
      "fizz \n",
      "94\n",
      "buzz \n",
      "fizz \n",
      "97\n",
      "98\n",
      "fizz \n",
      "buzz \n"
     ]
    }
   ],
   "source": [
    "# Start your code here\n",
    "for i in range(1,101):\n",
    "    word = ''\n",
    "    if i%3==0 or i%5==0:\n",
    "        if i%3==0:\n",
    "            word += 'fizz '\n",
    "        if i%5==0:\n",
    "            word += 'buzz '\n",
    "        if i%15==0:\n",
    "            word += 'fizzbuzz'\n",
    "        print(word)\n",
    "    else:\n",
    "        print(i)"
   ]
  },
  {
   "cell_type": "markdown",
   "metadata": {},
   "source": [
    "## Jimmy Joe\n",
    "\n",
    "<p style='font-size:1.75rem;line-height:1.5'>\n",
    "    Jimmy Joe received 5 texts from his cousin, John Doe. He wants to count the number of vowels in <strong>each</strong> of the texts. (Your answer should have about 5 integers.)\n",
    "    </p>"
   ]
  },
  {
   "cell_type": "code",
   "execution_count": 4,
   "metadata": {},
   "outputs": [
    {
     "name": "stdout",
     "output_type": "stream",
     "text": [
      "[5, 26, 8, 40, 17]\n"
     ]
    }
   ],
   "source": [
    "# The texts are retrived from the messages server and put into a list\n",
    "texts = ['hows it going jimmy',\n",
    "         'yo I was playing fortnite the other day with my friend josef and we landed in tilted towers',\n",
    "         'it was really lit but we lost',\n",
    "         'also did you know that you can put a loop inside a loop inside a loop inside a loop inside a loop in python?',\n",
    "         'that is basically what artificial intelligence is']\n",
    "\n",
    "# Start your code here\n",
    "vowels_list = []\n",
    "for text in texts:\n",
    "    counter = 0\n",
    "    for char in text:\n",
    "        if char.lower() in 'aeiou':\n",
    "            counter += 1\n",
    "    vowels_list.append(counter)\n",
    "print(vowels_list)"
   ]
  }
 ],
 "metadata": {
  "kernelspec": {
   "display_name": "Python 2",
   "language": "python",
   "name": "python2"
  },
  "language_info": {
   "codemirror_mode": {
    "name": "ipython",
    "version": 2
   },
   "file_extension": ".py",
   "mimetype": "text/x-python",
   "name": "python",
   "nbconvert_exporter": "python",
   "pygments_lexer": "ipython2",
   "version": "2.7.16"
  }
 },
 "nbformat": 4,
 "nbformat_minor": 2
}
