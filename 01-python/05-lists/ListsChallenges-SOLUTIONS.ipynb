{
 "cells": [
  {
   "cell_type": "code",
   "execution_count": 1,
   "metadata": {},
   "outputs": [],
   "source": [
    "# suppress automatic output\n",
    "from IPython.core.interactiveshell import InteractiveShell\n",
    "InteractiveShell.ast_node_interactivity = \"none\""
   ]
  },
  {
   "cell_type": "markdown",
   "metadata": {},
   "source": [
    "# Common Ends"
   ]
  },
  {
   "cell_type": "markdown",
   "metadata": {},
   "source": [
    "<p style='font-size:1.75rem;line-height:1.5'>\n",
    "    Given 2 lists, <code>a</code> and <code>b</code>, return <code>True</code> if they have the same first element <strong>OR</strong> if they have the same last element. For example:\n",
    "    </p>\n",
    "<ul style='font-size:1.75rem;line-height:1.5'>\n",
    "    <li>For <code>['RACECAR', 1, 2, 3]</code> and <code>[3, 2, 1, 2, 3]</code>, output <code>True</code> (same last element).</li>\n",
    "</ul>\n",
    "<p style='font-size:1.75rem;line-height:1.5'>\n",
    "    Check your code by changing the lists passed into the function!\n",
    "    </p>"
   ]
  },
  {
   "cell_type": "code",
   "execution_count": 2,
   "metadata": {},
   "outputs": [],
   "source": [
    "def common_ends(a, b):\n",
    "    # Start your code here\n",
    "    if a[0]==b[0] or a[-1]==b[-1]:\n",
    "        return True\n",
    "    return False\n",
    "\n",
    "\n",
    "# Change the lists to test your code!\n",
    "list1 = [1, 'jfio', 9, 0, 9, 2, 1, 'same']\n",
    "list2 = [2, 'same']\n",
    "common_ends(list1, list2)"
   ]
  },
  {
   "cell_type": "markdown",
   "metadata": {},
   "source": [
    "# Reverse Sum"
   ]
  },
  {
   "cell_type": "markdown",
   "metadata": {},
   "source": [
    "<p style='font-size:1.75rem;line-height:1.5'>\n",
    "    Given a list of two numbers, <code>a</code> and <code>b</code>, return <code>a + b</code>, but in reverse order. For example:\n",
    "    </p>\n",
    "<ul style='font-size:1.75rem;line-height:1.5'>\n",
    "    <li>If <code>a</code> is <code>[1, 2, 'racecar']</code> and <code>b</code> is <code>[4, True, 6]</code>, return <code>[6, True, 4, 'racecar', 2, 1]</code>.</li>\n",
    "</ul>\n",
    "    </p>\n",
    "<p style='font-size:1.75rem;line-height:1.5'>\n",
    "    Check your code by changing the lists passed into the function!\n",
    "    </p>"
   ]
  },
  {
   "cell_type": "code",
   "execution_count": 3,
   "metadata": {},
   "outputs": [],
   "source": [
    "def reverse_sum(a, b):\n",
    "    # Start your code here\n",
    "    return b[::-1] + a[::-1]\n",
    "\n",
    "\n",
    "# Change the tuples to test your code!\n",
    "tuple1 = (2, 4, 1, 'a', '9', 'b')\n",
    "tuple2 = (False, 'first item')\n",
    "reverse_sum(tuple1, tuple2)"
   ]
  },
  {
   "cell_type": "markdown",
   "metadata": {},
   "source": [
    "# Zero Padding"
   ]
  },
  {
   "cell_type": "markdown",
   "metadata": {},
   "source": [
    "<p style='font-size:1.75rem;line-height:1.5'>\n",
    "    Given a list <code>a</code> of numbers, return a list with <code>n</code> zeroes <code>0</code> at both ends of <code>a</code>. For example:\n",
    "    </p>\n",
    "<ul style='font-size:1.75rem;line-height:1.5'>\n",
    "    <li><code>zero_padding([9.3, 8, 1, 3, -4], 2)</code> should return <code>[0, 0, 9.3, 8, 1, 3, -4, 0, 0]</code>.</li>\n",
    "</ul>\n",
    "<p style='font-size:1.75rem;line-height:1.5'>\n",
    "    Check your code by calling <code>zero_padding</code> on a few lists and values of <code>n</code>!\n",
    "    </p>"
   ]
  },
  {
   "cell_type": "code",
   "execution_count": 4,
   "metadata": {},
   "outputs": [
    {
     "name": "stdout",
     "output_type": "stream",
     "text": [
      "[0, 0, 0, -5, 120, -45, 98, 180, 359, 0, 0, 0]\n"
     ]
    }
   ],
   "source": [
    "def zero_padding (a, n):\n",
    "    # Write your code here\n",
    "    return n*[0] + a + n*[0]\n",
    "    \n",
    "\n",
    "# Change the list and n to test your code!\n",
    "my_list = [-5, 120, -45, 98, 180, 359]\n",
    "n = 3\n",
    "print(zero_padding(my_list, n))"
   ]
  },
  {
   "cell_type": "markdown",
   "metadata": {},
   "source": [
    "# Nested Lists"
   ]
  },
  {
   "cell_type": "markdown",
   "metadata": {},
   "source": [
    "<p style='font-size:1.75rem;line-height:1.5'>\n",
    "    You can have lists inside lists. You can index each layer with an additional bracket.\n",
    "    </p>\n",
    "\n",
    "<p style='font-size:1.75rem;line-height:1.5'>\n",
    "    Example:\n",
    "    </p>\n",
    "    \n",
    "```python\n",
    "x = [[0, 0, 0, 0, 0], \n",
    "     [0, 0, 5, 0, 0],\n",
    "     [0, 0, 0, 0, 0],\n",
    "     [0, 0, 0, 0, 0],\n",
    "     [0, 0, 0, 0, 0]]\n",
    "\n",
    "x[1][2] will index into the 5.\n",
    "```\n",
    "\n",
    "<p style='font-size:1.75rem;line-height:1.5'>\n",
    "    Try to create a nested list with 3 layers. And index into the third layer.\n",
    "    </p>"
   ]
  },
  {
   "cell_type": "code",
   "execution_count": 5,
   "metadata": {},
   "outputs": [],
   "source": [
    "# Start your code here\n",
    "x = [[[1]]]\n",
    "x[0][0][0]"
   ]
  },
  {
   "cell_type": "markdown",
   "metadata": {},
   "source": [
    "<p style='font-size:1.75rem;line-height:1.5'>\n",
    "    <strong>Challenge:</strong> Try to slice into the 2 layer nested list below. Change all the values of row 5 from 0 to 255. \n",
    "    </p>"
   ]
  },
  {
   "cell_type": "code",
   "execution_count": 6,
   "metadata": {},
   "outputs": [
    {
     "name": "stdout",
     "output_type": "stream",
     "text": [
      "[[0, 0, 0, 0, 0], [0, 0, 0, 0, 0], [0, 0, 0, 0, 0], [0, 0, 0, 0, 0], [255, 255, 255, 255, 255]]\n"
     ]
    }
   ],
   "source": [
    "x = [[0, 0, 0, 0, 0], \n",
    "     [0, 0, 0, 0, 0],\n",
    "     [0, 0, 0, 0, 0],\n",
    "     [0, 0, 0, 0, 0],\n",
    "     [0, 0, 0, 0, 0]]\n",
    "\n",
    "# Start your code here\n",
    "x[4][0] = 255\n",
    "x[4][1] = 255\n",
    "x[4][2] = 255\n",
    "x[4][3] = 255\n",
    "x[4][4] = 255\n",
    "print(x)"
   ]
  }
 ],
 "metadata": {
  "kernelspec": {
   "display_name": "Python 3",
   "language": "python",
   "name": "python3"
  },
  "language_info": {
   "codemirror_mode": {
    "name": "ipython",
    "version": 3
   },
   "file_extension": ".py",
   "mimetype": "text/x-python",
   "name": "python",
   "nbconvert_exporter": "python",
   "pygments_lexer": "ipython3",
   "version": "3.8.1"
  }
 },
 "nbformat": 4,
 "nbformat_minor": 4
}
